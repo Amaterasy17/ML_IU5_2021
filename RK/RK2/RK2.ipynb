{
 "cells": [
  {
   "cell_type": "markdown",
   "metadata": {},
   "source": [
    "# РК ИУ5-61Б "
   ]
  },
  {
   "cell_type": "markdown",
   "metadata": {},
   "source": [
    "### Импорт библиотек"
   ]
  },
  {
   "cell_type": "code",
   "execution_count": 1,
   "metadata": {},
   "outputs": [],
   "source": [
    "import numpy as np\n",
    "import pandas as pd\n",
    "import seaborn as sns\n",
    "import matplotlib.pyplot as plt\n",
    "from pandas.plotting import scatter_matrix\n",
    "import warnings\n",
    "warnings.filterwarnings('ignore')\n",
    "sns.set(style=\"ticks\")\n",
    "%matplotlib inline\n",
    "from sklearn.model_selection import train_test_split\n",
    "from sklearn.preprocessing import LabelEncoder"
   ]
  },
  {
   "cell_type": "code",
   "execution_count": 2,
   "metadata": {},
   "outputs": [],
   "source": [
    "data = pd.read_csv('impeachment-polls.csv')"
   ]
  },
  {
   "cell_type": "code",
   "execution_count": 3,
   "metadata": {},
   "outputs": [
    {
     "data": {
      "text/html": [
       "<div>\n",
       "<style scoped>\n",
       "    .dataframe tbody tr th:only-of-type {\n",
       "        vertical-align: middle;\n",
       "    }\n",
       "\n",
       "    .dataframe tbody tr th {\n",
       "        vertical-align: top;\n",
       "    }\n",
       "\n",
       "    .dataframe thead th {\n",
       "        text-align: right;\n",
       "    }\n",
       "</style>\n",
       "<table border=\"1\" class=\"dataframe\">\n",
       "  <thead>\n",
       "    <tr style=\"text-align: right;\">\n",
       "      <th></th>\n",
       "      <th>Start</th>\n",
       "      <th>End</th>\n",
       "      <th>Pollster</th>\n",
       "      <th>Sponsor</th>\n",
       "      <th>SampleSize</th>\n",
       "      <th>Pop</th>\n",
       "      <th>tracking</th>\n",
       "      <th>Text</th>\n",
       "      <th>Category</th>\n",
       "      <th>Include?</th>\n",
       "      <th>...</th>\n",
       "      <th>Rep Yes</th>\n",
       "      <th>Rep No</th>\n",
       "      <th>Dem Sample</th>\n",
       "      <th>Dem Yes</th>\n",
       "      <th>Dem No</th>\n",
       "      <th>Ind Sample</th>\n",
       "      <th>Ind Yes</th>\n",
       "      <th>Ind No</th>\n",
       "      <th>URL</th>\n",
       "      <th>Notes</th>\n",
       "    </tr>\n",
       "  </thead>\n",
       "  <tbody>\n",
       "    <tr>\n",
       "      <th>0</th>\n",
       "      <td>6/28/2019</td>\n",
       "      <td>7/1/2019</td>\n",
       "      <td>ABC News/Washington Post</td>\n",
       "      <td>NaN</td>\n",
       "      <td>1008</td>\n",
       "      <td>a</td>\n",
       "      <td>NaN</td>\n",
       "      <td>Based on what you know, do you think Congress ...</td>\n",
       "      <td>begin_proceedings</td>\n",
       "      <td>yes</td>\n",
       "      <td>...</td>\n",
       "      <td>7.0</td>\n",
       "      <td>87.0</td>\n",
       "      <td>292.0</td>\n",
       "      <td>61.0</td>\n",
       "      <td>36.0</td>\n",
       "      <td>373.0</td>\n",
       "      <td>37.0</td>\n",
       "      <td>59.0</td>\n",
       "      <td>https://games-cdn.washingtonpost.com/notes/pro...</td>\n",
       "      <td>NaN</td>\n",
       "    </tr>\n",
       "    <tr>\n",
       "      <th>1</th>\n",
       "      <td>4/22/2019</td>\n",
       "      <td>4/25/2019</td>\n",
       "      <td>ABC News/Washington Post</td>\n",
       "      <td>NaN</td>\n",
       "      <td>1001</td>\n",
       "      <td>a</td>\n",
       "      <td>NaN</td>\n",
       "      <td>Based on what you know, do you think Congress ...</td>\n",
       "      <td>begin_proceedings</td>\n",
       "      <td>yes</td>\n",
       "      <td>...</td>\n",
       "      <td>10.0</td>\n",
       "      <td>87.0</td>\n",
       "      <td>290.0</td>\n",
       "      <td>62.0</td>\n",
       "      <td>29.0</td>\n",
       "      <td>360.0</td>\n",
       "      <td>36.0</td>\n",
       "      <td>59.0</td>\n",
       "      <td>https://games-cdn.washingtonpost.com/notes/pro...</td>\n",
       "      <td>NaN</td>\n",
       "    </tr>\n",
       "    <tr>\n",
       "      <th>2</th>\n",
       "      <td>1/21/2019</td>\n",
       "      <td>1/24/2019</td>\n",
       "      <td>ABC News/Washington Post</td>\n",
       "      <td>NaN</td>\n",
       "      <td>1001</td>\n",
       "      <td>a</td>\n",
       "      <td>NaN</td>\n",
       "      <td>Based on what you know, do you think Congress ...</td>\n",
       "      <td>begin_proceedings</td>\n",
       "      <td>yes</td>\n",
       "      <td>...</td>\n",
       "      <td>7.0</td>\n",
       "      <td>90.0</td>\n",
       "      <td>320.0</td>\n",
       "      <td>64.0</td>\n",
       "      <td>30.0</td>\n",
       "      <td>370.0</td>\n",
       "      <td>42.0</td>\n",
       "      <td>53.0</td>\n",
       "      <td>langerresearch.com/wp-content/uploads/1204a2Tr...</td>\n",
       "      <td>NaN</td>\n",
       "    </tr>\n",
       "    <tr>\n",
       "      <th>3</th>\n",
       "      <td>8/26/2018</td>\n",
       "      <td>8/29/2018</td>\n",
       "      <td>ABC News/Washington Post</td>\n",
       "      <td>NaN</td>\n",
       "      <td>1003</td>\n",
       "      <td>a</td>\n",
       "      <td>NaN</td>\n",
       "      <td>Based on what you know, do you think Congress ...</td>\n",
       "      <td>begin_proceedings</td>\n",
       "      <td>yes</td>\n",
       "      <td>...</td>\n",
       "      <td>15.0</td>\n",
       "      <td>82.0</td>\n",
       "      <td>331.0</td>\n",
       "      <td>75.0</td>\n",
       "      <td>21.0</td>\n",
       "      <td>371.0</td>\n",
       "      <td>49.0</td>\n",
       "      <td>46.0</td>\n",
       "      <td>https://www.langerresearch.com/wp-content/uplo...</td>\n",
       "      <td>NaN</td>\n",
       "    </tr>\n",
       "    <tr>\n",
       "      <th>4</th>\n",
       "      <td>6/8/2019</td>\n",
       "      <td>6/12/2019</td>\n",
       "      <td>Civiqs</td>\n",
       "      <td>NaN</td>\n",
       "      <td>1559</td>\n",
       "      <td>rv</td>\n",
       "      <td>NaN</td>\n",
       "      <td>Do you think the House of Representatives shou...</td>\n",
       "      <td>begin_inquiry</td>\n",
       "      <td>yes</td>\n",
       "      <td>...</td>\n",
       "      <td>5.0</td>\n",
       "      <td>93.0</td>\n",
       "      <td>577.0</td>\n",
       "      <td>77.0</td>\n",
       "      <td>15.0</td>\n",
       "      <td>499.0</td>\n",
       "      <td>41.0</td>\n",
       "      <td>53.0</td>\n",
       "      <td>https://civiqs.com/documents/Civiqs_DailyKos_m...</td>\n",
       "      <td>NaN</td>\n",
       "    </tr>\n",
       "  </tbody>\n",
       "</table>\n",
       "<p>5 rows × 24 columns</p>\n",
       "</div>"
      ],
      "text/plain": [
       "       Start        End                  Pollster Sponsor  SampleSize Pop  \\\n",
       "0  6/28/2019   7/1/2019  ABC News/Washington Post     NaN        1008   a   \n",
       "1  4/22/2019  4/25/2019  ABC News/Washington Post     NaN        1001   a   \n",
       "2  1/21/2019  1/24/2019  ABC News/Washington Post     NaN        1001   a   \n",
       "3  8/26/2018  8/29/2018  ABC News/Washington Post     NaN        1003   a   \n",
       "4   6/8/2019  6/12/2019                    Civiqs     NaN        1559  rv   \n",
       "\n",
       "  tracking                                               Text  \\\n",
       "0      NaN  Based on what you know, do you think Congress ...   \n",
       "1      NaN  Based on what you know, do you think Congress ...   \n",
       "2      NaN  Based on what you know, do you think Congress ...   \n",
       "3      NaN  Based on what you know, do you think Congress ...   \n",
       "4      NaN  Do you think the House of Representatives shou...   \n",
       "\n",
       "            Category Include?  ...  Rep Yes  Rep No  Dem Sample  Dem Yes  \\\n",
       "0  begin_proceedings      yes  ...      7.0    87.0       292.0     61.0   \n",
       "1  begin_proceedings      yes  ...     10.0    87.0       290.0     62.0   \n",
       "2  begin_proceedings      yes  ...      7.0    90.0       320.0     64.0   \n",
       "3  begin_proceedings      yes  ...     15.0    82.0       331.0     75.0   \n",
       "4      begin_inquiry      yes  ...      5.0    93.0       577.0     77.0   \n",
       "\n",
       "   Dem No  Ind Sample  Ind Yes  Ind No  \\\n",
       "0    36.0       373.0     37.0    59.0   \n",
       "1    29.0       360.0     36.0    59.0   \n",
       "2    30.0       370.0     42.0    53.0   \n",
       "3    21.0       371.0     49.0    46.0   \n",
       "4    15.0       499.0     41.0    53.0   \n",
       "\n",
       "                                                 URL  Notes  \n",
       "0  https://games-cdn.washingtonpost.com/notes/pro...    NaN  \n",
       "1  https://games-cdn.washingtonpost.com/notes/pro...    NaN  \n",
       "2  langerresearch.com/wp-content/uploads/1204a2Tr...    NaN  \n",
       "3  https://www.langerresearch.com/wp-content/uplo...    NaN  \n",
       "4  https://civiqs.com/documents/Civiqs_DailyKos_m...    NaN  \n",
       "\n",
       "[5 rows x 24 columns]"
      ]
     },
     "execution_count": 3,
     "metadata": {},
     "output_type": "execute_result"
    }
   ],
   "source": [
    "data.head()"
   ]
  },
  {
   "cell_type": "code",
   "execution_count": 4,
   "metadata": {},
   "outputs": [
    {
     "data": {
      "text/plain": [
       "Start          object\n",
       "End            object\n",
       "Pollster       object\n",
       "Sponsor        object\n",
       "SampleSize      int64\n",
       "Pop            object\n",
       "tracking       object\n",
       "Text           object\n",
       "Category       object\n",
       "Include?       object\n",
       "Yes           float64\n",
       "No            float64\n",
       "Unsure        float64\n",
       "Rep Sample    float64\n",
       "Rep Yes       float64\n",
       "Rep No        float64\n",
       "Dem Sample    float64\n",
       "Dem Yes       float64\n",
       "Dem No        float64\n",
       "Ind Sample    float64\n",
       "Ind Yes       float64\n",
       "Ind No        float64\n",
       "URL            object\n",
       "Notes          object\n",
       "dtype: object"
      ]
     },
     "execution_count": 4,
     "metadata": {},
     "output_type": "execute_result"
    }
   ],
   "source": [
    "data.dtypes"
   ]
  },
  {
   "cell_type": "code",
   "execution_count": 5,
   "metadata": {},
   "outputs": [],
   "source": [
    "data['Dem Sample'] = data['Dem Sample'].replace(0,np.nan)\n",
    "data['Dem Sample'] = data['Dem Sample'].fillna(data['Dem Sample'].mean())\n",
    "data['Rep Sample'] = data['Rep Sample'].replace(0,np.nan)\n",
    "data['Rep Sample'] = data['Rep Sample'].fillna(data['Rep Sample'].mean())"
   ]
  },
  {
   "cell_type": "code",
   "execution_count": 6,
   "metadata": {},
   "outputs": [
    {
     "data": {
      "text/plain": [
       "Start           0\n",
       "End             0\n",
       "Pollster        0\n",
       "Sponsor       266\n",
       "SampleSize      0\n",
       "Pop             0\n",
       "tracking      428\n",
       "Text            1\n",
       "Category        1\n",
       "Include?        0\n",
       "Yes             0\n",
       "No              0\n",
       "Unsure         21\n",
       "Rep Sample      0\n",
       "Rep Yes        33\n",
       "Rep No         50\n",
       "Dem Sample      0\n",
       "Dem Yes        27\n",
       "Dem No         51\n",
       "Ind Sample    133\n",
       "Ind Yes        95\n",
       "Ind No        112\n",
       "URL             1\n",
       "Notes         535\n",
       "dtype: int64"
      ]
     },
     "execution_count": 6,
     "metadata": {},
     "output_type": "execute_result"
    }
   ],
   "source": [
    "data.isnull().sum()\n",
    "# проверим есть ли пропущенные значения"
   ]
  },
  {
   "cell_type": "code",
   "execution_count": 7,
   "metadata": {},
   "outputs": [
    {
     "name": "stdout",
     "output_type": "stream",
     "text": [
      "<class 'pandas.core.frame.DataFrame'>\n",
      "RangeIndex: 542 entries, 0 to 541\n",
      "Data columns (total 24 columns):\n",
      " #   Column      Non-Null Count  Dtype  \n",
      "---  ------      --------------  -----  \n",
      " 0   Start       542 non-null    object \n",
      " 1   End         542 non-null    object \n",
      " 2   Pollster    542 non-null    object \n",
      " 3   Sponsor     276 non-null    object \n",
      " 4   SampleSize  542 non-null    int64  \n",
      " 5   Pop         542 non-null    object \n",
      " 6   tracking    114 non-null    object \n",
      " 7   Text        541 non-null    object \n",
      " 8   Category    541 non-null    object \n",
      " 9   Include?    542 non-null    object \n",
      " 10  Yes         542 non-null    float64\n",
      " 11  No          542 non-null    float64\n",
      " 12  Unsure      521 non-null    float64\n",
      " 13  Rep Sample  542 non-null    float64\n",
      " 14  Rep Yes     509 non-null    float64\n",
      " 15  Rep No      492 non-null    float64\n",
      " 16  Dem Sample  542 non-null    float64\n",
      " 17  Dem Yes     515 non-null    float64\n",
      " 18  Dem No      491 non-null    float64\n",
      " 19  Ind Sample  409 non-null    float64\n",
      " 20  Ind Yes     447 non-null    float64\n",
      " 21  Ind No      430 non-null    float64\n",
      " 22  URL         541 non-null    object \n",
      " 23  Notes       7 non-null      object \n",
      "dtypes: float64(12), int64(1), object(11)\n",
      "memory usage: 101.8+ KB\n"
     ]
    }
   ],
   "source": [
    "data.info()"
   ]
  },
  {
   "cell_type": "code",
   "execution_count": 8,
   "metadata": {},
   "outputs": [
    {
     "data": {
      "text/html": [
       "<div>\n",
       "<style scoped>\n",
       "    .dataframe tbody tr th:only-of-type {\n",
       "        vertical-align: middle;\n",
       "    }\n",
       "\n",
       "    .dataframe tbody tr th {\n",
       "        vertical-align: top;\n",
       "    }\n",
       "\n",
       "    .dataframe thead th {\n",
       "        text-align: right;\n",
       "    }\n",
       "</style>\n",
       "<table border=\"1\" class=\"dataframe\">\n",
       "  <thead>\n",
       "    <tr style=\"text-align: right;\">\n",
       "      <th></th>\n",
       "      <th>Start</th>\n",
       "      <th>End</th>\n",
       "      <th>Pollster</th>\n",
       "      <th>Sponsor</th>\n",
       "      <th>SampleSize</th>\n",
       "      <th>Pop</th>\n",
       "      <th>tracking</th>\n",
       "      <th>Text</th>\n",
       "      <th>Category</th>\n",
       "      <th>Include?</th>\n",
       "      <th>...</th>\n",
       "      <th>Rep Yes</th>\n",
       "      <th>Rep No</th>\n",
       "      <th>Dem Sample</th>\n",
       "      <th>Dem Yes</th>\n",
       "      <th>Dem No</th>\n",
       "      <th>Ind Sample</th>\n",
       "      <th>Ind Yes</th>\n",
       "      <th>Ind No</th>\n",
       "      <th>URL</th>\n",
       "      <th>Notes</th>\n",
       "    </tr>\n",
       "  </thead>\n",
       "  <tbody>\n",
       "    <tr>\n",
       "      <th>0</th>\n",
       "      <td>6/28/2019</td>\n",
       "      <td>7/1/2019</td>\n",
       "      <td>ABC News/Washington Post</td>\n",
       "      <td>NaN</td>\n",
       "      <td>1008</td>\n",
       "      <td>a</td>\n",
       "      <td>NaN</td>\n",
       "      <td>Based on what you know, do you think Congress ...</td>\n",
       "      <td>begin_proceedings</td>\n",
       "      <td>yes</td>\n",
       "      <td>...</td>\n",
       "      <td>7.0</td>\n",
       "      <td>87.0</td>\n",
       "      <td>292.0</td>\n",
       "      <td>61.0</td>\n",
       "      <td>36.0</td>\n",
       "      <td>373.0</td>\n",
       "      <td>37.0</td>\n",
       "      <td>59.0</td>\n",
       "      <td>https://games-cdn.washingtonpost.com/notes/pro...</td>\n",
       "      <td>NaN</td>\n",
       "    </tr>\n",
       "    <tr>\n",
       "      <th>1</th>\n",
       "      <td>4/22/2019</td>\n",
       "      <td>4/25/2019</td>\n",
       "      <td>ABC News/Washington Post</td>\n",
       "      <td>NaN</td>\n",
       "      <td>1001</td>\n",
       "      <td>a</td>\n",
       "      <td>NaN</td>\n",
       "      <td>Based on what you know, do you think Congress ...</td>\n",
       "      <td>begin_proceedings</td>\n",
       "      <td>yes</td>\n",
       "      <td>...</td>\n",
       "      <td>10.0</td>\n",
       "      <td>87.0</td>\n",
       "      <td>290.0</td>\n",
       "      <td>62.0</td>\n",
       "      <td>29.0</td>\n",
       "      <td>360.0</td>\n",
       "      <td>36.0</td>\n",
       "      <td>59.0</td>\n",
       "      <td>https://games-cdn.washingtonpost.com/notes/pro...</td>\n",
       "      <td>NaN</td>\n",
       "    </tr>\n",
       "    <tr>\n",
       "      <th>2</th>\n",
       "      <td>1/21/2019</td>\n",
       "      <td>1/24/2019</td>\n",
       "      <td>ABC News/Washington Post</td>\n",
       "      <td>NaN</td>\n",
       "      <td>1001</td>\n",
       "      <td>a</td>\n",
       "      <td>NaN</td>\n",
       "      <td>Based on what you know, do you think Congress ...</td>\n",
       "      <td>begin_proceedings</td>\n",
       "      <td>yes</td>\n",
       "      <td>...</td>\n",
       "      <td>7.0</td>\n",
       "      <td>90.0</td>\n",
       "      <td>320.0</td>\n",
       "      <td>64.0</td>\n",
       "      <td>30.0</td>\n",
       "      <td>370.0</td>\n",
       "      <td>42.0</td>\n",
       "      <td>53.0</td>\n",
       "      <td>langerresearch.com/wp-content/uploads/1204a2Tr...</td>\n",
       "      <td>NaN</td>\n",
       "    </tr>\n",
       "    <tr>\n",
       "      <th>3</th>\n",
       "      <td>8/26/2018</td>\n",
       "      <td>8/29/2018</td>\n",
       "      <td>ABC News/Washington Post</td>\n",
       "      <td>NaN</td>\n",
       "      <td>1003</td>\n",
       "      <td>a</td>\n",
       "      <td>NaN</td>\n",
       "      <td>Based on what you know, do you think Congress ...</td>\n",
       "      <td>begin_proceedings</td>\n",
       "      <td>yes</td>\n",
       "      <td>...</td>\n",
       "      <td>15.0</td>\n",
       "      <td>82.0</td>\n",
       "      <td>331.0</td>\n",
       "      <td>75.0</td>\n",
       "      <td>21.0</td>\n",
       "      <td>371.0</td>\n",
       "      <td>49.0</td>\n",
       "      <td>46.0</td>\n",
       "      <td>https://www.langerresearch.com/wp-content/uplo...</td>\n",
       "      <td>NaN</td>\n",
       "    </tr>\n",
       "    <tr>\n",
       "      <th>4</th>\n",
       "      <td>6/8/2019</td>\n",
       "      <td>6/12/2019</td>\n",
       "      <td>Civiqs</td>\n",
       "      <td>NaN</td>\n",
       "      <td>1559</td>\n",
       "      <td>rv</td>\n",
       "      <td>NaN</td>\n",
       "      <td>Do you think the House of Representatives shou...</td>\n",
       "      <td>begin_inquiry</td>\n",
       "      <td>yes</td>\n",
       "      <td>...</td>\n",
       "      <td>5.0</td>\n",
       "      <td>93.0</td>\n",
       "      <td>577.0</td>\n",
       "      <td>77.0</td>\n",
       "      <td>15.0</td>\n",
       "      <td>499.0</td>\n",
       "      <td>41.0</td>\n",
       "      <td>53.0</td>\n",
       "      <td>https://civiqs.com/documents/Civiqs_DailyKos_m...</td>\n",
       "      <td>NaN</td>\n",
       "    </tr>\n",
       "  </tbody>\n",
       "</table>\n",
       "<p>5 rows × 24 columns</p>\n",
       "</div>"
      ],
      "text/plain": [
       "       Start        End                  Pollster Sponsor  SampleSize Pop  \\\n",
       "0  6/28/2019   7/1/2019  ABC News/Washington Post     NaN        1008   a   \n",
       "1  4/22/2019  4/25/2019  ABC News/Washington Post     NaN        1001   a   \n",
       "2  1/21/2019  1/24/2019  ABC News/Washington Post     NaN        1001   a   \n",
       "3  8/26/2018  8/29/2018  ABC News/Washington Post     NaN        1003   a   \n",
       "4   6/8/2019  6/12/2019                    Civiqs     NaN        1559  rv   \n",
       "\n",
       "  tracking                                               Text  \\\n",
       "0      NaN  Based on what you know, do you think Congress ...   \n",
       "1      NaN  Based on what you know, do you think Congress ...   \n",
       "2      NaN  Based on what you know, do you think Congress ...   \n",
       "3      NaN  Based on what you know, do you think Congress ...   \n",
       "4      NaN  Do you think the House of Representatives shou...   \n",
       "\n",
       "            Category Include?  ...  Rep Yes  Rep No  Dem Sample  Dem Yes  \\\n",
       "0  begin_proceedings      yes  ...      7.0    87.0       292.0     61.0   \n",
       "1  begin_proceedings      yes  ...     10.0    87.0       290.0     62.0   \n",
       "2  begin_proceedings      yes  ...      7.0    90.0       320.0     64.0   \n",
       "3  begin_proceedings      yes  ...     15.0    82.0       331.0     75.0   \n",
       "4      begin_inquiry      yes  ...      5.0    93.0       577.0     77.0   \n",
       "\n",
       "   Dem No  Ind Sample  Ind Yes  Ind No  \\\n",
       "0    36.0       373.0     37.0    59.0   \n",
       "1    29.0       360.0     36.0    59.0   \n",
       "2    30.0       370.0     42.0    53.0   \n",
       "3    21.0       371.0     49.0    46.0   \n",
       "4    15.0       499.0     41.0    53.0   \n",
       "\n",
       "                                                 URL  Notes  \n",
       "0  https://games-cdn.washingtonpost.com/notes/pro...    NaN  \n",
       "1  https://games-cdn.washingtonpost.com/notes/pro...    NaN  \n",
       "2  langerresearch.com/wp-content/uploads/1204a2Tr...    NaN  \n",
       "3  https://www.langerresearch.com/wp-content/uplo...    NaN  \n",
       "4  https://civiqs.com/documents/Civiqs_DailyKos_m...    NaN  \n",
       "\n",
       "[5 rows x 24 columns]"
      ]
     },
     "execution_count": 8,
     "metadata": {},
     "output_type": "execute_result"
    }
   ],
   "source": [
    "data.head()"
   ]
  },
  {
   "cell_type": "code",
   "execution_count": 9,
   "metadata": {},
   "outputs": [
    {
     "data": {
      "text/plain": [
       "<AxesSubplot:>"
      ]
     },
     "execution_count": 9,
     "metadata": {},
     "output_type": "execute_result"
    },
    {
     "data": {
      "image/png": "[encoded data removed]",
      "text/plain": [
       "<Figure size 1080x504 with 2 Axes>"
      ]
     },
     "metadata": {
      "needs_background": "light"
     },
     "output_type": "display_data"
    }
   ],
   "source": [
    "#Построим корреляционную матрицу\n",
    "fig, ax = plt.subplots(figsize=(15,7))\n",
    "sns.heatmap(data.corr(method='pearson'), ax=ax, annot=True, fmt='.2f')"
   ]
  },
  {
   "cell_type": "code",
   "execution_count": 10,
   "metadata": {},
   "outputs": [
    {
     "name": "stdout",
     "output_type": "stream",
     "text": [
      "Входные данные:\n",
      "\n",
      "    Rep Sample  Dem Sample\n",
      "0       232.0       292.0\n",
      "1       260.0       290.0\n",
      "2       240.0       320.0\n",
      "3       251.0       331.0\n",
      "4       483.0       577.0 \n",
      "\n",
      "Выходные данные:\n",
      "\n",
      " 0    1008\n",
      "1    1001\n",
      "2    1001\n",
      "3    1003\n",
      "4    1559\n",
      "Name: SampleSize, dtype: int64\n"
     ]
    }
   ],
   "source": [
    "X = data[['Rep Sample','Dem Sample']]\n",
    "Y = data['SampleSize']\n",
    "print('Входные данные:\\n\\n', X.head(), '\\n\\nВыходные данные:\\n\\n', Y.head())"
   ]
  },
  {
   "cell_type": "code",
   "execution_count": 11,
   "metadata": {},
   "outputs": [
    {
     "name": "stdout",
     "output_type": "stream",
     "text": [
      "Входные параметры обучающей выборки:\n",
      "\n",
      "      Rep Sample  Dem Sample\n",
      "46        320.0       370.0\n",
      "417       376.0       461.0\n",
      "444       435.0       528.0\n",
      "78        525.0       580.0\n",
      "37        321.0       371.0 \n",
      "\n",
      "Входные параметры тестовой выборки:\n",
      "\n",
      "      Rep Sample  Dem Sample\n",
      "380       395.0       532.0\n",
      "155      1048.0      1223.0\n",
      "132      1451.0      1683.0\n",
      "456       396.0       480.0\n",
      "90        290.0       335.0 \n",
      "\n",
      "Выходные параметры обучающей выборки:\n",
      "\n",
      " 46      999\n",
      "417     960\n",
      "444    1553\n",
      "78     2019\n",
      "37     1003\n",
      "Name: SampleSize, dtype: int64 \n",
      "\n",
      "Выходные параметры тестовой выборки:\n",
      "\n",
      " 380    1500\n",
      "155    2909\n",
      "132    4146\n",
      "456    1200\n",
      "90     1000\n",
      "Name: SampleSize, dtype: int64\n"
     ]
    }
   ],
   "source": [
    "X_train,  X_test,  Y_train,  Y_test = train_test_split(X,  Y, random_state = 0, test_size = 0.1)\n",
    "print('Входные параметры обучающей выборки:\\n\\n',X_train.head(), \\\n",
    "      '\\n\\nВходные параметры тестовой выборки:\\n\\n', X_test.head(), \\\n",
    "      '\\n\\nВыходные параметры обучающей выборки:\\n\\n', Y_train.head(), \\\n",
    "      '\\n\\nВыходные параметры тестовой выборки:\\n\\n', Y_test.head())"
   ]
  },
  {
   "cell_type": "code",
   "execution_count": 12,
   "metadata": {},
   "outputs": [],
   "source": [
    "from sklearn.linear_model import LinearRegression\n",
    "from sklearn.metrics import mean_absolute_error, mean_squared_error,  median_absolute_error, r2_score "
   ]
  },
  {
   "cell_type": "code",
   "execution_count": 13,
   "metadata": {},
   "outputs": [],
   "source": [
    "Lin_Reg = LinearRegression().fit(X_train, Y_train)\n",
    "\n",
    "lr_y_pred = Lin_Reg.predict(X_test)"
   ]
  },
  {
   "cell_type": "code",
   "execution_count": 14,
   "metadata": {},
   "outputs": [
    {
     "data": {
      "image/png": "[encoded data removed]",
      "text/plain": [
       "<Figure size 432x288 with 1 Axes>"
      ]
     },
     "metadata": {
      "needs_background": "light"
     },
     "output_type": "display_data"
    }
   ],
   "source": [
    "plt.scatter(X_test['Rep Sample'], Y_test,    marker = 's', label = 'Тестовая выборка')\n",
    "plt.scatter(X_test['Rep Sample'], lr_y_pred, marker = '.', label = 'Предсказанные данные')\n",
    "plt.legend (loc = 'lower right')\n",
    "plt.xlabel ('Rep Sample')\n",
    "plt.ylabel ('SampleSize')\n",
    "plt.show()"
   ]
  },
  {
   "cell_type": "code",
   "execution_count": 15,
   "metadata": {},
   "outputs": [],
   "source": [
    "from sklearn.ensemble import RandomForestRegressor"
   ]
  },
  {
   "cell_type": "code",
   "execution_count": 16,
   "metadata": {},
   "outputs": [
    {
     "data": {
      "text/plain": [
       "RandomForestRegressor(n_estimators=5, oob_score=True, random_state=10)"
      ]
     },
     "execution_count": 16,
     "metadata": {},
     "output_type": "execute_result"
    }
   ],
   "source": [
    "forest_1 = RandomForestRegressor(n_estimators=5, oob_score=True, random_state=10)\n",
    "forest_1.fit(X, Y)"
   ]
  },
  {
   "cell_type": "code",
   "execution_count": 17,
   "metadata": {},
   "outputs": [
    {
     "name": "stdout",
     "output_type": "stream",
     "text": [
      "Средняя абсолютная ошибка: 116.37807862000227\n",
      "Средняя квадратичная ошибка: 124590.33818072594\n",
      "Median absolute error: 7.0\n",
      "Коэффициент детерминации: 0.7786044887034425\n"
     ]
    }
   ],
   "source": [
    "Y_predict = forest_1.predict(X_test)\n",
    "print('Средняя абсолютная ошибка:',   mean_absolute_error(Y_test, Y_predict))\n",
    "print('Средняя квадратичная ошибка:', mean_squared_error(Y_test, Y_predict))\n",
    "print('Median absolute error:',       median_absolute_error(Y_test, Y_predict))\n",
    "print('Коэффициент детерминации:',    r2_score(Y_test, Y_predict))"
   ]
  },
  {
   "cell_type": "code",
   "execution_count": 18,
   "metadata": {},
   "outputs": [
    {
     "data": {
      "image/png": "[encoded data removed]",
      "text/plain": [
       "<Figure size 432x288 with 1 Axes>"
      ]
     },
     "metadata": {
      "needs_background": "light"
     },
     "output_type": "display_data"
    }
   ],
   "source": [
    "plt.scatter(X_test['Rep Sample'], Y_test,    marker = 'o', label = 'Тестовая выборка')\n",
    "plt.scatter(X_test['Rep Sample'], Y_predict, marker = '.', label = 'Предсказанные данные')\n",
    "plt.legend(loc = 'lower right')\n",
    "plt.xlabel('Rep Sample')\n",
    "plt.ylabel('SampleSize')\n",
    "plt.show()"
   ]
  }
 ],
 "metadata": {
  "kernelspec": {
   "display_name": "Python 3",
   "language": "python",
   "name": "python3"
  },
  "language_info": {
   "codemirror_mode": {
    "name": "ipython",
    "version": 3
   },
   "file_extension": ".py",
   "mimetype": "text/x-python",
   "name": "python",
   "nbconvert_exporter": "python",
   "pygments_lexer": "ipython3",
   "version": "3.8.5"
  }
 },
 "nbformat": 4,
 "nbformat_minor": 4
}
